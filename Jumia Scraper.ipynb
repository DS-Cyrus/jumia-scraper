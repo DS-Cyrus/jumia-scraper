{
 "cells": [
  {
   "cell_type": "markdown",
   "metadata": {},
   "source": [
    "# The Jumia Product Data Scraper"
   ]
  },
  {
   "cell_type": "markdown",
   "metadata": {},
   "source": [
    "This a scraper that allows you to scrape product links from the top selling division of https://jumia.co.ke homepage, follow the links and scrape for product data from all these product links. This data can then be used to determine popularity of a product and make recommendations to sellers about the sort of products they should be selling.\n",
    "\n",
    "Here is the product data that this scraper will collect:\n",
    "- Product Name\n",
    "- Brand Name\n",
    "- Price (Ksh)\n",
    "- Discount if Available (%)\n",
    "- Total Number of Reviews\n",
    "- The Product Rating (out of 5)\n",
    "\n",
    "*Note* that we make certain assumptions to deduce insights from our product data:\n",
    "1. Number of reviews correlates directly to the number of product purchases. This data point will help us determine the popularity of a particular product.\n",
    "2. The product rating does not depict the actual customer satisfaction given the disparity in review count. Therefore, we add one negative and one positive review to better estaimate the customer satisfaction from a product (the more accurate product rating)"
   ]
  },
  {
   "cell_type": "code",
   "execution_count": 339,
   "metadata": {},
   "outputs": [],
   "source": [
    "import re\n",
    "import csv\n",
    "import requests\n",
    "import pandas as pd\n",
    "from bs4 import BeautifulSoup"
   ]
  },
  {
   "cell_type": "markdown",
   "metadata": {},
   "source": [
    "#### Test Whether Site Can Be Scraped"
   ]
  },
  {
   "cell_type": "code",
   "execution_count": 267,
   "metadata": {},
   "outputs": [
    {
     "name": "stdin",
     "output_type": "stream",
     "text": [
      "Enter your url: https://jumia.co.ke\n"
     ]
    },
    {
     "name": "stdout",
     "output_type": "stream",
     "text": [
      "This URL can be scraped:  True\n",
      "The Status Code is:  200\n"
     ]
    }
   ],
   "source": [
    "url = input(\"Enter your url:\")\n",
    "\n",
    "response = requests.get(url)\n",
    "\n",
    "print(\"This URL can be scraped: \", response.ok)\n",
    "print(\"The Status Code is: \", response.status_code)"
   ]
  },
  {
   "cell_type": "markdown",
   "metadata": {},
   "source": [
    "## Product Page Scraper"
   ]
  },
  {
   "cell_type": "markdown",
   "metadata": {},
   "source": [
    "### Retrieve the Product Name"
   ]
  },
  {
   "cell_type": "code",
   "execution_count": 268,
   "metadata": {},
   "outputs": [],
   "source": [
    "def getproductname(url):\n",
    "    \n",
    "    #convert url to a soup object\n",
    "    response = requests.get(url)\n",
    "    html_data = response.text\n",
    "    soup = BeautifulSoup(html_data, \"html\")\n",
    "\n",
    "    #Extract product name from soup\n",
    "    product_page = soup.title.text\n",
    "    product_data = re.findall(\"(.+) @\",product_page)\n",
    "    product_name = product_data[0]\n",
    "\n",
    "    return product_name"
   ]
  },
  {
   "cell_type": "markdown",
   "metadata": {},
   "source": [
    "### Retrieve the Brand Name"
   ]
  },
  {
   "cell_type": "code",
   "execution_count": 269,
   "metadata": {},
   "outputs": [],
   "source": [
    "def getbrandname(url):\n",
    "    #convert url to a soup object\n",
    "    response = requests.get(url)\n",
    "    html_data = response.text\n",
    "    soup = BeautifulSoup(html_data, \"html\")\n",
    "    \n",
    "    #extract brand name from soup\n",
    "    brand_div = str(soup.find_all(\"div\",{\"class\":\"-fs14 -pvxs\"}))\n",
    "    brand_list = re.findall('Similar products from (.+)</a></div>',brand_div)\n",
    "    brand = brand_list[0]\n",
    "    \n",
    "    return brand"
   ]
  },
  {
   "cell_type": "markdown",
   "metadata": {},
   "source": [
    "### Retrieve the Price Data – Price and Discount"
   ]
  },
  {
   "cell_type": "code",
   "execution_count": 270,
   "metadata": {},
   "outputs": [],
   "source": [
    "def getpricedata(url):\n",
    "    #convert url to a soup object\n",
    "    response = requests.get(url)\n",
    "    html_data = response.text\n",
    "    soup = BeautifulSoup(html_data, \"html\")\n",
    "\n",
    "    #extract price from soup\n",
    "    price_div = str(soup.find_all(\"div\",{\"class\": \"-hr -pvs -mtxs\"}))\n",
    "    price_data = re.findall(\">KSh ([0-9,.]+)\",price_div)\n",
    "    price = float(re.sub(\",\", \"\",price_data[0]))\n",
    "    \n",
    "    #extract price discount from soup\n",
    "    if len(price_data) > 1:\n",
    "        discount_data = re.findall(\"([0-9]+)%\",price_div)\n",
    "        discount = float(discount_data[0])/100\n",
    "    else:\n",
    "        discount = 0\n",
    "    \n",
    "    return price, discount"
   ]
  },
  {
   "cell_type": "markdown",
   "metadata": {},
   "source": [
    "### Retrieve the Review Data – Review Count and Rating"
   ]
  },
  {
   "cell_type": "code",
   "execution_count": 308,
   "metadata": {},
   "outputs": [],
   "source": [
    "def getreviewdata(url):\n",
    "    #convert url to a soup object\n",
    "    response = requests.get(url)\n",
    "    html_data = response.text\n",
    "    soup = BeautifulSoup(html_data, \"html\")\n",
    "\n",
    "    #extract rating from soup\n",
    "    ratings_div = str(soup.find_all(\"div\", {\"class\": \"-df -i-ctr -pvxs\"}))\n",
    "    ratings_data = re.findall(\"([0-9.]+) out of\", ratings_div)\n",
    "    rating = float(ratings_data[0])\n",
    "\n",
    "    #extract review count from soup\n",
    "    reviews_data = re.findall(\"([0-9]+) rating\", ratings_div)\n",
    "    if len(reviews_data) > 0:\n",
    "        reviews = int(reviews_data[0])\n",
    "    else:\n",
    "        reviews = 0\n",
    "\n",
    "    return reviews, rating"
   ]
  },
  {
   "cell_type": "markdown",
   "metadata": {},
   "source": [
    "#### Determine Customer Satisfaction (Actual Rating)"
   ]
  },
  {
   "cell_type": "code",
   "execution_count": 324,
   "metadata": {},
   "outputs": [],
   "source": [
    "def getactualrating(reviews, rating):\n",
    "    #Add two reviews (one negative, one positive) to determine satisfaction\n",
    "    actual_rating = round(((reviews * rating) + 1 + 5)/(reviews + 2),2)\n",
    "\n",
    "    return actual_rating"
   ]
  },
  {
   "cell_type": "markdown",
   "metadata": {},
   "source": [
    "### Test Product Page Scraper"
   ]
  },
  {
   "cell_type": "code",
   "execution_count": 325,
   "metadata": {},
   "outputs": [
    {
     "name": "stdin",
     "output_type": "stream",
     "text": [
      "Enter url:  https://www.jumia.co.ke/gold-beer-330ml-24-pcs.-ruhr-gold-mpg227567.html\n"
     ]
    },
    {
     "name": "stdout",
     "output_type": "stream",
     "text": [
      "Ruhr Gold Gold Beer - 330ml (24 Pcs). Ruhr Gold 1250.0 0 48 4.5 4.44\n"
     ]
    }
   ],
   "source": [
    "url = input(\"Enter url: \")\n",
    "\n",
    "name = getproductname(url)\n",
    "brand = getbrandname(url)\n",
    "price,dicount = getpricedata(url)\n",
    "reviews,rating = getreviewdata(url)\n",
    "actual_rating = getactualrating(reviews, rating)\n",
    "\n",
    "print(name, brand, price, discount, reviews, rating, actual_rating)"
   ]
  },
  {
   "cell_type": "markdown",
   "metadata": {},
   "source": [
    "## Top-Selling Products Div Scraper"
   ]
  },
  {
   "cell_type": "markdown",
   "metadata": {},
   "source": [
    "### List All Top-Selling Product Links"
   ]
  },
  {
   "cell_type": "code",
   "execution_count": 294,
   "metadata": {},
   "outputs": [],
   "source": [
    "def getproductlinks(url,links): #takes in the url and a list\n",
    "    #convert url to a soup object\n",
    "    response = requests.get(url)\n",
    "    html_data = response.text\n",
    "    soup = BeautifulSoup(html_data, \"html\")\n",
    "\n",
    "    #Extract links from top-products division\n",
    "    top_items = str(soup.find_all(\"div\", {\"class\":\"crs-w _main -pvs -phxs\"}))\n",
    "    product_links = re.findall('/(\\S+)\\.html',top_items)\n",
    "\n",
    "    #Update the list of product links\n",
    "    for link in product_links:\n",
    "        link = url + link + \".html\"\n",
    "        links.append(link)\n",
    "\n",
    "    return links #returns an updated list"
   ]
  },
  {
   "cell_type": "markdown",
   "metadata": {},
   "source": [
    "### List Product links from Top-Selling Div"
   ]
  },
  {
   "cell_type": "code",
   "execution_count": 332,
   "metadata": {},
   "outputs": [],
   "source": [
    "def gettopselling(url,links):\n",
    "    count=len(links)\n",
    "    top_selling = list()\n",
    "    error_links = list()\n",
    "    \n",
    "    #loop through links scraped from top products div\n",
    "    for link in getproductlinks(url,links):\n",
    "        count += 1\n",
    "        \n",
    "        try:\n",
    "            #retrieve product data\n",
    "            name = getproductname(link)\n",
    "            brand = getbrandname(link)\n",
    "            price, discount = getpricedata(link)\n",
    "            reviews,rating = getreviewdata(link)\n",
    "            actual_rating = getactualrating(reviews, rating)\n",
    "\n",
    "            #add product data to list output\n",
    "            product = [name,brand,price,discount,reviews,rating,actual_rating]\n",
    "            top_selling.append(product)\n",
    "        except:\n",
    "            #list all links that output errors\n",
    "            error_links.append(count)\n",
    "        \n",
    "    return top_selling, error_links"
   ]
  },
  {
   "cell_type": "markdown",
   "metadata": {},
   "source": [
    "### Test Top-Selling Scraper"
   ]
  },
  {
   "cell_type": "code",
   "execution_count": 333,
   "metadata": {},
   "outputs": [
    {
     "name": "stdout",
     "output_type": "stream",
     "text": [
      "[['Ruhr Gold Gold Beer - 330ml (24 Pcs).', 'Ruhr Gold', 1250.0, 0.64, 49, 4.5, 4.44], ['Kabras Premium White Sugar - 2kg', 'Kabras', 200.0, 0.13, 1027, 4.5, 4.5], ['Lifebuoy Antibacterial Hand Sanitizer - 50ml', 'Lifebuoy', 135.0, 0.1, 143, 4.4, 4.38], ['A General 1x Anti-dust Mouth Face Mask Cycling Surgical Respirator Adult Reusable', 'A General', 230.0, 0.47, 0, 0.0, 3.0], ['Nice & Lovely Hand Sanitizing Gel - 65 Ml', 'Nice &amp; Lovely', 123.0, 0.05, 39, 4.5, 4.43], ['Jumia Chakula Box (One Click, One Delivery)', 'Jumia', 1499.0, 0, 8, 3.6, 3.48], ['Ajab All-Purpose Fortified Wheat Flour 2Kg', 'Ajab', 113.0, 0.05, 29, 4.8, 4.68], ['Dairy Dairy Top Milk 500ml-A  Pack of 12 Pieces', 'Dairy', 470.0, 0.22, 188, 4.6, 4.58], ['Top Fry Cooking Oil - 3 Litres', 'Top Fry', 480.0, 0.05, 233, 4.6, 4.59], ['Omo Hand Washing Powder Extra Fresh - 3.5kg', 'Omo', 665.0, 0.3, 64, 4.8, 4.75], ['Jogoo Maize Meal  - 2kg', 'Jogoo', 124.0, 0, 567, 4.4, 4.4], ['Exe All-Purpose Fortified Wheat Flour - 2Kg', 'Exe', 119.0, 0, 299, 4.6, 4.59], ['Blue Band Margarine - 1kg', 'Blue Band', 260.0, 0.21, 311, 4.5, 4.49], ['Nutrameal Sugar - 2kg', 'Nutrameal', 200.0, 0, 167, 4.6, 4.58], ['Generic White Washable And Reusable Face Masks With Ear Loops', 'Generic', 80.0, 0.2, 9, 3.3, 3.25], ['A General 1PC Unisex Reusable Dustproof Dust PM2.5 Mask Haze Pollution Respirator Cover', 'A General', 350.0, 0.5, 0, 0.0, 3.0], ['Generic 2pcs Reusable Washable Protective 3-Layer Face Mask', 'Generic', 346.0, 0.42, 30, 3.3, 3.28], ['Aquamist Water - 18.5 Litres - Disposable Bottle', 'Aquamist', 371.0, 0.26, 372, 4.5, 4.49], ['Generic Reusable Washable Protective 3-Layer Face Mask', 'Generic', 399.0, 0.43, 1, 1.0, 2.33], ['Aura 3M  Mask Particulate Respirator Exhalation 8810SSA  Mask,1 Pc Only', 'Aura', 874.0, 0.49, 25, 3.4, 3.37], ['Indomie Noodles - Chicken Flavour - 20 Pack', 'Indomie', 500.0, 0.17, 101, 4.6, 4.57], ['Exe Chapati Fortified Wheat Flour - 2Kg', 'Exe', 121.0, 0, 87, 4.7, 4.66], ['Pembe Maize Meal Fortified With Vitamins And Minerals - 2Kg', 'Pembe', 120.0, 0.03, 76, 4.7, 4.66], ['Coke Soda Can - 330ml', 'Coke', 53.0, 0, 16, 4.6, 4.42], ['Top Fry Cooking Oil - 5 Litres', 'Top Fry', 750.0, 0.06, 12, 4.9, 4.63], ['Royco Mchuzi Mix Beef Kora 10g - Pack of 12', 'Royco', 106.0, 0, 2, 5.0, 4.0]]\n",
      "0\n"
     ]
    }
   ],
   "source": [
    "url = \"https://www.jumia.co.ke/\"\n",
    "links = list()\n",
    "\n",
    "top_selling, error_links = gettopselling(url,links)\n",
    "\n",
    "print(top_selling)\n",
    "print(\"The number of links with errors:\", len(error_links))"
   ]
  },
  {
   "cell_type": "markdown",
   "metadata": {},
   "source": [
    "## Save and Preview Product Data"
   ]
  },
  {
   "cell_type": "markdown",
   "metadata": {},
   "source": [
    "### Export Product Data to CSV"
   ]
  },
  {
   "cell_type": "code",
   "execution_count": 337,
   "metadata": {},
   "outputs": [
    {
     "name": "stdout",
     "output_type": "stream",
     "text": [
      "Done! All products have been added to CSV file\n"
     ]
    }
   ],
   "source": [
    "with open('jumia_products.csv', 'w') as jumia_file:\n",
    "    fieldnames = [\"name\", \"brand\", \"price\", \"discount\", \"reviews\", \"rating\", \"actual_rating\"]\n",
    "    \n",
    "    csvwriter = csv.writer(jumia_file)\n",
    "    csvwriter.writerow(fieldnames)\n",
    "    \n",
    "    #loop through product list to update csv file\n",
    "    for product in top_selling:\n",
    "        csvwriter.writerow(product)\n",
    "        \n",
    "    print(\"Done! All products have been added to CSV file\")"
   ]
  },
  {
   "cell_type": "markdown",
   "metadata": {},
   "source": [
    "### Preview Product DataFrame"
   ]
  },
  {
   "cell_type": "code",
   "execution_count": 346,
   "metadata": {},
   "outputs": [
    {
     "data": {
      "text/html": [
       "<div>\n",
       "<style scoped>\n",
       "    .dataframe tbody tr th:only-of-type {\n",
       "        vertical-align: middle;\n",
       "    }\n",
       "\n",
       "    .dataframe tbody tr th {\n",
       "        vertical-align: top;\n",
       "    }\n",
       "\n",
       "    .dataframe thead th {\n",
       "        text-align: right;\n",
       "    }\n",
       "</style>\n",
       "<table border=\"1\" class=\"dataframe\">\n",
       "  <thead>\n",
       "    <tr style=\"text-align: right;\">\n",
       "      <th></th>\n",
       "      <th>name</th>\n",
       "      <th>brand</th>\n",
       "      <th>price</th>\n",
       "      <th>discount</th>\n",
       "      <th>reviews</th>\n",
       "      <th>rating</th>\n",
       "      <th>actual_rating</th>\n",
       "    </tr>\n",
       "  </thead>\n",
       "  <tbody>\n",
       "    <tr>\n",
       "      <td>0</td>\n",
       "      <td>Ruhr Gold Gold Beer - 330ml (24 Pcs).</td>\n",
       "      <td>Ruhr Gold</td>\n",
       "      <td>1250.0</td>\n",
       "      <td>0.64</td>\n",
       "      <td>49</td>\n",
       "      <td>4.5</td>\n",
       "      <td>4.44</td>\n",
       "    </tr>\n",
       "    <tr>\n",
       "      <td>1</td>\n",
       "      <td>Kabras Premium White Sugar - 2kg</td>\n",
       "      <td>Kabras</td>\n",
       "      <td>200.0</td>\n",
       "      <td>0.13</td>\n",
       "      <td>1027</td>\n",
       "      <td>4.5</td>\n",
       "      <td>4.50</td>\n",
       "    </tr>\n",
       "    <tr>\n",
       "      <td>2</td>\n",
       "      <td>Lifebuoy Antibacterial Hand Sanitizer - 50ml</td>\n",
       "      <td>Lifebuoy</td>\n",
       "      <td>135.0</td>\n",
       "      <td>0.10</td>\n",
       "      <td>143</td>\n",
       "      <td>4.4</td>\n",
       "      <td>4.38</td>\n",
       "    </tr>\n",
       "    <tr>\n",
       "      <td>3</td>\n",
       "      <td>A General 1x Anti-dust Mouth Face Mask Cycling...</td>\n",
       "      <td>A General</td>\n",
       "      <td>230.0</td>\n",
       "      <td>0.47</td>\n",
       "      <td>0</td>\n",
       "      <td>0.0</td>\n",
       "      <td>3.00</td>\n",
       "    </tr>\n",
       "    <tr>\n",
       "      <td>4</td>\n",
       "      <td>Nice &amp; Lovely Hand Sanitizing Gel - 65 Ml</td>\n",
       "      <td>Nice &amp;amp; Lovely</td>\n",
       "      <td>123.0</td>\n",
       "      <td>0.05</td>\n",
       "      <td>39</td>\n",
       "      <td>4.5</td>\n",
       "      <td>4.43</td>\n",
       "    </tr>\n",
       "    <tr>\n",
       "      <td>5</td>\n",
       "      <td>Jumia Chakula Box (One Click, One Delivery)</td>\n",
       "      <td>Jumia</td>\n",
       "      <td>1499.0</td>\n",
       "      <td>0.00</td>\n",
       "      <td>8</td>\n",
       "      <td>3.6</td>\n",
       "      <td>3.48</td>\n",
       "    </tr>\n",
       "    <tr>\n",
       "      <td>6</td>\n",
       "      <td>Ajab All-Purpose Fortified Wheat Flour 2Kg</td>\n",
       "      <td>Ajab</td>\n",
       "      <td>113.0</td>\n",
       "      <td>0.05</td>\n",
       "      <td>29</td>\n",
       "      <td>4.8</td>\n",
       "      <td>4.68</td>\n",
       "    </tr>\n",
       "    <tr>\n",
       "      <td>7</td>\n",
       "      <td>Dairy Dairy Top Milk 500ml-A  Pack of 12 Pieces</td>\n",
       "      <td>Dairy</td>\n",
       "      <td>470.0</td>\n",
       "      <td>0.22</td>\n",
       "      <td>188</td>\n",
       "      <td>4.6</td>\n",
       "      <td>4.58</td>\n",
       "    </tr>\n",
       "    <tr>\n",
       "      <td>8</td>\n",
       "      <td>Top Fry Cooking Oil - 3 Litres</td>\n",
       "      <td>Top Fry</td>\n",
       "      <td>480.0</td>\n",
       "      <td>0.05</td>\n",
       "      <td>233</td>\n",
       "      <td>4.6</td>\n",
       "      <td>4.59</td>\n",
       "    </tr>\n",
       "    <tr>\n",
       "      <td>9</td>\n",
       "      <td>Omo Hand Washing Powder Extra Fresh - 3.5kg</td>\n",
       "      <td>Omo</td>\n",
       "      <td>665.0</td>\n",
       "      <td>0.30</td>\n",
       "      <td>64</td>\n",
       "      <td>4.8</td>\n",
       "      <td>4.75</td>\n",
       "    </tr>\n",
       "    <tr>\n",
       "      <td>10</td>\n",
       "      <td>Jogoo Maize Meal  - 2kg</td>\n",
       "      <td>Jogoo</td>\n",
       "      <td>124.0</td>\n",
       "      <td>0.00</td>\n",
       "      <td>567</td>\n",
       "      <td>4.4</td>\n",
       "      <td>4.40</td>\n",
       "    </tr>\n",
       "  </tbody>\n",
       "</table>\n",
       "</div>"
      ],
      "text/plain": [
       "                                                 name              brand  \\\n",
       "0               Ruhr Gold Gold Beer - 330ml (24 Pcs).          Ruhr Gold   \n",
       "1                    Kabras Premium White Sugar - 2kg             Kabras   \n",
       "2        Lifebuoy Antibacterial Hand Sanitizer - 50ml           Lifebuoy   \n",
       "3   A General 1x Anti-dust Mouth Face Mask Cycling...          A General   \n",
       "4           Nice & Lovely Hand Sanitizing Gel - 65 Ml  Nice &amp; Lovely   \n",
       "5         Jumia Chakula Box (One Click, One Delivery)              Jumia   \n",
       "6          Ajab All-Purpose Fortified Wheat Flour 2Kg               Ajab   \n",
       "7     Dairy Dairy Top Milk 500ml-A  Pack of 12 Pieces              Dairy   \n",
       "8                      Top Fry Cooking Oil - 3 Litres            Top Fry   \n",
       "9         Omo Hand Washing Powder Extra Fresh - 3.5kg                Omo   \n",
       "10                            Jogoo Maize Meal  - 2kg              Jogoo   \n",
       "\n",
       "     price  discount  reviews  rating  actual_rating  \n",
       "0   1250.0      0.64       49     4.5           4.44  \n",
       "1    200.0      0.13     1027     4.5           4.50  \n",
       "2    135.0      0.10      143     4.4           4.38  \n",
       "3    230.0      0.47        0     0.0           3.00  \n",
       "4    123.0      0.05       39     4.5           4.43  \n",
       "5   1499.0      0.00        8     3.6           3.48  \n",
       "6    113.0      0.05       29     4.8           4.68  \n",
       "7    470.0      0.22      188     4.6           4.58  \n",
       "8    480.0      0.05      233     4.6           4.59  \n",
       "9    665.0      0.30       64     4.8           4.75  \n",
       "10   124.0      0.00      567     4.4           4.40  "
      ]
     },
     "execution_count": 346,
     "metadata": {},
     "output_type": "execute_result"
    }
   ],
   "source": [
    "jumia = pd.read_csv(\"jumia_products.csv\")\n",
    "\n",
    "jumia.head(11)"
   ]
  },
  {
   "cell_type": "code",
   "execution_count": 344,
   "metadata": {},
   "outputs": [
    {
     "name": "stdout",
     "output_type": "stream",
     "text": [
      "<class 'pandas.core.frame.DataFrame'>\n",
      "RangeIndex: 26 entries, 0 to 25\n",
      "Data columns (total 7 columns):\n",
      "name             26 non-null object\n",
      "brand            26 non-null object\n",
      "price            26 non-null float64\n",
      "discount         26 non-null float64\n",
      "reviews          26 non-null int64\n",
      "rating           26 non-null float64\n",
      "actual_rating    26 non-null float64\n",
      "dtypes: float64(4), int64(1), object(2)\n",
      "memory usage: 1.5+ KB\n"
     ]
    }
   ],
   "source": [
    "jumia.info()"
   ]
  }
 ],
 "metadata": {
  "kernelspec": {
   "display_name": "Python 3",
   "language": "python",
   "name": "python3"
  },
  "language_info": {
   "codemirror_mode": {
    "name": "ipython",
    "version": 3
   },
   "file_extension": ".py",
   "mimetype": "text/x-python",
   "name": "python",
   "nbconvert_exporter": "python",
   "pygments_lexer": "ipython3",
   "version": "3.7.4"
  }
 },
 "nbformat": 4,
 "nbformat_minor": 4
}
